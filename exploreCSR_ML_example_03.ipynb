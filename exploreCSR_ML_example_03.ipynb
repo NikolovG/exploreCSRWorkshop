{
  "nbformat": 4,
  "nbformat_minor": 0,
  "metadata": {
    "colab": {
      "name": "exploreCSR-ML-example_03.ipynb",
      "provenance": [],
      "collapsed_sections": []
    },
    "kernelspec": {
      "name": "python3",
      "display_name": "Python 3"
    },
    "language_info": {
      "name": "python"
    }
  },
  "cells": [
    {
      "cell_type": "markdown",
      "metadata": {
        "id": "l0POvE7A8P-5"
      },
      "source": [
        "# **Example 03**\n",
        "In this example, we will construct a **convolutional neural network** to improve our recogniztion of handwritten digits.\n",
        "\n",
        "First, we import the `TensorFlow` and `numpy` libraries."
      ]
    },
    {
      "cell_type": "code",
      "metadata": {
        "id": "Fz7BF5Fm8NAI"
      },
      "source": [
        "import tensorflow as tf\n",
        "import numpy as np"
      ],
      "execution_count": null,
      "outputs": []
    },
    {
      "cell_type": "markdown",
      "metadata": {
        "id": "OBDFUgYef5dK"
      },
      "source": [
        "Next, we load the MNIST dataset. Remember that this dataset has images of handwritten digits (from 0 to 9) and is divided into a training set and a test set."
      ]
    },
    {
      "cell_type": "code",
      "metadata": {
        "id": "jXZNvGSrIZsy",
        "colab": {
          "base_uri": "https://localhost:8080/"
        },
        "outputId": "5f204d02-1a2b-4388-f00e-6599b4905716"
      },
      "source": [
        "data = tf.keras.datasets.mnist\n",
        "(x_train, y_train), (x_test, y_test) = data.load_data()"
      ],
      "execution_count": null,
      "outputs": [
        {
          "output_type": "stream",
          "name": "stdout",
          "text": [
            "Downloading data from https://storage.googleapis.com/tensorflow/tf-keras-datasets/mnist.npz\n",
            "11493376/11490434 [==============================] - 0s 0us/step\n",
            "11501568/11490434 [==============================] - 0s 0us/step\n"
          ]
        }
      ]
    },
    {
      "cell_type": "markdown",
      "metadata": {
        "id": "KLOaRx0HgHOz"
      },
      "source": [
        "The input of the convolutional neural network must be a 4D array, so the first step is to **reshape** the data. If we don't do this, we will get an error when training the neural network. We also normalize the data, as we did in the previous example."
      ]
    },
    {
      "cell_type": "code",
      "metadata": {
        "id": "Kv1JkKW4KU1S",
        "colab": {
          "base_uri": "https://localhost:8080/"
        },
        "outputId": "fdfb7fa4-353e-4fa2-df5d-1104d39d6bcd"
      },
      "source": [
        "print(x_train.shape)\n",
        "print(x_test.shape)\n",
        "x_train = x_train.reshape(60000, 28, 28, 1)\n",
        "x_test = x_test.reshape(10000, 28, 28, 1)\n",
        "x_train = x_train / 255.0\n",
        "x_test = x_test / 255.0"
      ],
      "execution_count": null,
      "outputs": [
        {
          "output_type": "stream",
          "name": "stdout",
          "text": [
            "(60000, 28, 28)\n",
            "(10000, 28, 28)\n"
          ]
        }
      ]
    },
    {
      "cell_type": "markdown",
      "metadata": {
        "id": "eYp_P_guhmJI"
      },
      "source": [
        "Next, we design our convolutional neural network.\n",
        "\n",
        "First, we have a **convolutional** layer. We specify the number of convolutions (e.g., `32`), the size of the convolution (e.g., `3x3`), the activation function (e.g., `relu`), and the shape of the input data.\n",
        "\n",
        "We follow this with a **pooling** layer. This layer reduces the size of the image, while maintaining the content of the features highlighted by the convolution. We specify the type of pooling (e.g., max pooling) and the size of the pooling window (e.g., `2x2`). \n",
        "\n",
        "We then have a Flatten layer and a sequence of Dense layers, like in the previous example."
      ]
    },
    {
      "cell_type": "code",
      "metadata": {
        "id": "A5rHifKiKjDT",
        "colab": {
          "base_uri": "https://localhost:8080/"
        },
        "outputId": "e334a0e5-90ca-473f-d4a7-d054071ad6b2"
      },
      "source": [
        "model = tf.keras.models.Sequential([\n",
        "  tf.keras.layers.Conv2D(32, (3, 3), activation='relu', input_shape=(28, 28, 1)), # convolutional layer\n",
        "  tf.keras.layers.MaxPooling2D(2, 2), # pooling layer\n",
        "  tf.keras.layers.Flatten(), # flatten layer\n",
        "  tf.keras.layers.Dense(64, activation='relu'), # dense layer\n",
        "  tf.keras.layers.Dense(10, activation='softmax') # output layer\n",
        "])\n",
        "model.summary()"
      ],
      "execution_count": null,
      "outputs": [
        {
          "output_type": "stream",
          "name": "stdout",
          "text": [
            "Model: \"sequential\"\n",
            "_________________________________________________________________\n",
            " Layer (type)                Output Shape              Param #   \n",
            "=================================================================\n",
            " conv2d (Conv2D)             (None, 26, 26, 32)        320       \n",
            "                                                                 \n",
            " max_pooling2d (MaxPooling2D  (None, 13, 13, 32)       0         \n",
            " )                                                               \n",
            "                                                                 \n",
            " flatten (Flatten)           (None, 5408)              0         \n",
            "                                                                 \n",
            " dense (Dense)               (None, 64)                346176    \n",
            "                                                                 \n",
            " dense_1 (Dense)             (None, 10)                650       \n",
            "                                                                 \n",
            "=================================================================\n",
            "Total params: 347,146\n",
            "Trainable params: 347,146\n",
            "Non-trainable params: 0\n",
            "_________________________________________________________________\n"
          ]
        }
      ]
    },
    {
      "cell_type": "markdown",
      "metadata": {
        "id": "PwkzlPHd9vxM"
      },
      "source": [
        "We compile our convolutional neural network by specifying the loss function, the optimization algorithm, and the evaluation metric."
      ]
    },
    {
      "cell_type": "code",
      "metadata": {
        "id": "Lzm3oDeJKppP"
      },
      "source": [
        "model.compile(optimizer='adam',\n",
        "              loss='sparse_categorical_crossentropy',\n",
        "              metrics=['accuracy'])"
      ],
      "execution_count": null,
      "outputs": []
    },
    {
      "cell_type": "markdown",
      "metadata": {
        "id": "myiZaiqe99lo"
      },
      "source": [
        "We then train our convolutional neural network to fit the data. Notice that it will take longer to train, since it's more complex."
      ]
    },
    {
      "cell_type": "code",
      "metadata": {
        "id": "_SphkGHtKsbQ",
        "colab": {
          "base_uri": "https://localhost:8080/"
        },
        "outputId": "b2b6d155-7fad-47ac-caec-3c75dbe64185"
      },
      "source": [
        "model.fit(x_train, y_train, epochs=5)"
      ],
      "execution_count": null,
      "outputs": [
        {
          "output_type": "stream",
          "name": "stdout",
          "text": [
            "Epoch 1/5\n",
            "1875/1875 [==============================] - 33s 17ms/step - loss: 0.1660 - accuracy: 0.9507\n",
            "Epoch 2/5\n",
            "1875/1875 [==============================] - 31s 17ms/step - loss: 0.0598 - accuracy: 0.9816\n",
            "Epoch 3/5\n",
            "1875/1875 [==============================] - 32s 17ms/step - loss: 0.0401 - accuracy: 0.9875\n",
            "Epoch 4/5\n",
            "1875/1875 [==============================] - 32s 17ms/step - loss: 0.0302 - accuracy: 0.9910\n",
            "Epoch 5/5\n",
            "1875/1875 [==============================] - 32s 17ms/step - loss: 0.0218 - accuracy: 0.9930\n"
          ]
        },
        {
          "output_type": "execute_result",
          "data": {
            "text/plain": [
              "<keras.callbacks.History at 0x7f1088d49790>"
            ]
          },
          "metadata": {},
          "execution_count": 6
        }
      ]
    },
    {
      "cell_type": "markdown",
      "metadata": {
        "id": "hvEHLP9EdGZX"
      },
      "source": [
        "Finally, we evaluate the performance of our convolutional neural network on the test set."
      ]
    },
    {
      "cell_type": "code",
      "metadata": {
        "id": "YAlwkxSplS3K",
        "colab": {
          "base_uri": "https://localhost:8080/"
        },
        "outputId": "9f8971e2-dbf8-4cdb-89de-f22ff690ab3e"
      },
      "source": [
        "model.evaluate(x_test, y_test)"
      ],
      "execution_count": null,
      "outputs": [
        {
          "output_type": "stream",
          "name": "stdout",
          "text": [
            "313/313 [==============================] - 2s 7ms/step - loss: 0.0383 - accuracy: 0.9870\n"
          ]
        },
        {
          "output_type": "execute_result",
          "data": {
            "text/plain": [
              "[0.03833775594830513, 0.9869999885559082]"
            ]
          },
          "metadata": {},
          "execution_count": 7
        }
      ]
    },
    {
      "cell_type": "markdown",
      "metadata": {
        "id": "BpJ6yOdEdcXT"
      },
      "source": [
        "The accuracy should now be around 99% on the training set and around 98% on the test set, so there is an improvement after adding the convolutions. **You can try to improve the accuracy further by adding more layers, neurons, or epochs, but be careful not to overfit the model!**\n",
        "\n",
        "Finally, we can understand convolutions better by visualizing the result of running the convolutions and pooling on each image. Notice that the convolutions are highlighting specific features in the images. **Try changing the value of `i` and `j` to visualize the result of other convolutions in other images.**"
      ]
    },
    {
      "cell_type": "code",
      "metadata": {
        "id": "HlP8ni6qnUQN",
        "colab": {
          "base_uri": "https://localhost:8080/",
          "height": 149
        },
        "outputId": "2a964760-9b84-49cc-b6e5-366469c91ff1"
      },
      "source": [
        "import matplotlib.pyplot as plt\n",
        "from tensorflow.keras import models\n",
        "i = 4 # convolution number (1 to 32)\n",
        "j = 2 # image number\n",
        "f, arr = plt.subplots(1, 3)\n",
        "layer_outputs = [layer.output for layer in model.layers]\n",
        "activation_model = tf.keras.models.Model(inputs = model.input, outputs = layer_outputs)\n",
        "arr[0].imshow(x_test[j].reshape(28, 28)) # visualize original image\n",
        "arr[0].grid(False)\n",
        "for x in range(1, 3):\n",
        "  f = activation_model.predict(x_test[j].reshape(1, 28, 28, 1))[x-1] # visualize convolutions/pooling\n",
        "  arr[x].imshow(f[0, : , :, i])\n",
        "  arr[x].grid(False)"
      ],
      "execution_count": null,
      "outputs": [
        {
          "output_type": "display_data",
          "data": {
            "text/plain": [
              "<Figure size 432x288 with 3 Axes>"
            ],
            "image/png": "[encoded data removed]"
          },
          "metadata": {
            "needs_background": "light"
          }
        }
      ]
    }
  ]
}