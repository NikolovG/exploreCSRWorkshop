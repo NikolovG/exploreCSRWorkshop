{
  "nbformat": 4,
  "nbformat_minor": 0,
  "metadata": {
    "colab": {
      "name": "exploreCSR-ML-mini-project.ipynb",
      "provenance": [],
      "collapsed_sections": []
    },
    "kernelspec": {
      "name": "python3",
      "display_name": "Python 3"
    },
    "language_info": {
      "name": "python"
    }
  },
  "cells": [
    {
      "cell_type": "markdown",
      "metadata": {
        "id": "b1lgqsHNuId1"
      },
      "source": [
        "# **Mini-Project**\n",
        "In this mini-project, you have to construct a neural network that **recognizes different items of clothing**. Complete each task and answer each question below by filling in the blanks (`...`) with one or more lines of code or text."
      ]
    },
    {
      "cell_type": "markdown",
      "metadata": {
        "id": "79y0hUBavqM0"
      },
      "source": [
        "### **Part 1: Preparing and Exploring the Data**\n",
        "\n",
        "First, we import the `TensorFlow` library."
      ]
    },
    {
      "cell_type": "code",
      "metadata": {
        "id": "QLTAObYZsArU"
      },
      "source": [
        "import tensorflow as tf"
      ],
      "execution_count": null,
      "outputs": []
    },
    {
      "cell_type": "markdown",
      "metadata": {
        "id": "CfmC2YVhvDvH"
      },
      "source": [
        "Next, we load the Fashion MNIST dataset, which has images of items of clothing. The images in the Fashion MNIST dataset are divided into a training set and a test set."
      ]
    },
    {
      "cell_type": "code",
      "metadata": {
        "id": "fWVPWUjUsE_e"
      },
      "source": [
        "data = tf.keras.datasets.fashion_mnist\n",
        "(x_train, y_train), (x_test, y_test) = data.load_data()"
      ],
      "execution_count": null,
      "outputs": []
    },
    {
      "cell_type": "markdown",
      "metadata": {
        "id": "vjbjx1brvWkM"
      },
      "source": [
        "**Question 01:** Explore the Fashion MNIST dataset and answer the following questions. How many images are in the training set? How many images are in the test set? What is the size of each of these images?\n",
        "\n",
        "**Answer:** ..."
      ]
    },
    {
      "cell_type": "markdown",
      "metadata": {
        "id": "XbpLldkrY-ta"
      },
      "source": [
        "**Task 01:** Print some of the images in the training set and their corresponding class labels."
      ]
    },
    {
      "cell_type": "code",
      "metadata": {
        "id": "qVnYO7AUsPWJ"
      },
      "source": [
        "import matplotlib.pyplot as plt\n",
        "..."
      ],
      "execution_count": null,
      "outputs": []
    },
    {
      "cell_type": "markdown",
      "metadata": {
        "id": "v0Wyr53Fd8j1"
      },
      "source": [
        "**Question 02:** How many different classes are in the dataset? What do each of these classes represent?\n",
        "\n",
        "**Answer:** ..."
      ]
    },
    {
      "cell_type": "markdown",
      "metadata": {
        "id": "priGxsupwSzZ"
      },
      "source": [
        "**Task 02:** Reshape and normalize the training set and the test set so we can construct a convolutional neural network."
      ]
    },
    {
      "cell_type": "code",
      "metadata": {
        "id": "mNFAbwu_agJp"
      },
      "source": [
        "x_train = ...\n",
        "x_train = ...\n",
        "x_test = ...\n",
        "x_test = ..."
      ],
      "execution_count": null,
      "outputs": []
    },
    {
      "cell_type": "markdown",
      "metadata": {
        "id": "cro5-uuCwbPR"
      },
      "source": [
        "### **Part 2: Training and Testing a Deep Neural Network**\n",
        "\n",
        "**Task 03:** Train and test a deep neural network (with no convolutional layers) to classify the images in the Fashion MNIST dataset."
      ]
    },
    {
      "cell_type": "code",
      "metadata": {
        "id": "mj7nnf8ImTeW"
      },
      "source": [
        "model = tf.keras.models.Sequential([\n",
        "  ...\n",
        "])\n",
        "model.summary()\n",
        "model.compile(...)\n",
        "model.fit(...)\n",
        "model.evaluate(...)"
      ],
      "execution_count": null,
      "outputs": []
    },
    {
      "cell_type": "markdown",
      "metadata": {
        "id": "MoLq0G-NfpSZ"
      },
      "source": [
        "**Question 03:** Repeat the previous task using different numbers of layers, neurons, and epochs (extra points if you do this in a systematic way using a `for` loop!) and answer the following questions. How many layers, neurons, and epochs did you try? What is the best accuracy achieved using a deep neural network? What is the structure of this neural network (i.e., number of layers, neurons, and epochs)? What is the training time?\n",
        "\n",
        "**Answer:** ..."
      ]
    },
    {
      "cell_type": "markdown",
      "metadata": {
        "id": "tTYaMAMtmgTa"
      },
      "source": [
        "### **Part 3: Training and Testing a Convolutional Neural Network**\n",
        "\n",
        "**Task 04:** Train and test a convolutional neural network (with convolutional layers) to classify the images in the Fashion MNIST dataset."
      ]
    },
    {
      "cell_type": "code",
      "metadata": {
        "id": "t93GR3kIwTeR"
      },
      "source": [
        "model = tf.keras.models.Sequential([\n",
        "  ...\n",
        "])\n",
        "model.summary()\n",
        "model.compile(...)\n",
        "model.fit(...)\n",
        "model.evaluate(...)"
      ],
      "execution_count": null,
      "outputs": []
    },
    {
      "cell_type": "markdown",
      "metadata": {
        "id": "b0Hd78B0Yy9I"
      },
      "source": [
        "**Question 04:** Repeat the previous task using different numbers of layers, convolutions, neurons, and epochs (extra points if you do this in a systematic way using a `for` loop!) and answer the following questions. How many layers, neurons, and epochs did you try? and answer the following questions. What is the best accuracy achieved using a convolutional neural network? What is the structure of this neural network (i.e., number of layers, neurons, and epochs)? What is the training time?\n",
        "\n",
        "**Answer:** ..."
      ]
    },
    {
      "cell_type": "markdown",
      "source": [
        "### **Bonus Task**\n",
        "\n",
        "Classify the datasets in the [Tensorflow Playground](https://playground.tensorflow.org/#activation=tanh&batchSize=10&dataset=circle&regDataset=reg-plane&learningRate=0.03&regularizationRate=0&noise=0&networkShape=4,2&seed=0.90054&showTestData=false&discretize=false&percTrainData=50&x=true&y=true&xTimesY=false&xSquared=false&ySquared=false&cosX=false&sinX=false&cosY=false&sinY=false&collectStats=false&problem=classification&initZero=false&hideText=false)."
      ],
      "metadata": {
        "id": "hnjICne76_xK"
      }
    }
  ]
}