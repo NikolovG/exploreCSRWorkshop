{
  "nbformat": 4,
  "nbformat_minor": 0,
  "metadata": {
    "colab": {
      "name": "exploreCSR-ML-example_02.ipynb",
      "provenance": [],
      "collapsed_sections": []
    },
    "kernelspec": {
      "name": "python3",
      "display_name": "Python 3"
    },
    "language_info": {
      "name": "python"
    }
  },
  "cells": [
    {
      "cell_type": "markdown",
      "metadata": {
        "id": "Kf6w7tGB3PPJ"
      },
      "source": [
        "# **Example 02**\n",
        "In this example, we will construct a neural network to **recognize handwritten digits**. The goal of this neural network will be to **classify** images of handwritten digits into 10 different **classes** (0 through 9).\n",
        "\n",
        "First, we import the `TensorFlow` and `numpy` libraries."
      ]
    },
    {
      "cell_type": "code",
      "metadata": {
        "id": "oSOV2Bjf21Gc"
      },
      "source": [
        "import tensorflow as tf\n",
        "import numpy as np"
      ],
      "execution_count": null,
      "outputs": []
    },
    {
      "cell_type": "markdown",
      "metadata": {
        "id": "7GOKdnefK-ck"
      },
      "source": [
        "Next, we load the MNIST dataset, which has images of handwritten digits (from 0 to 9)."
      ]
    },
    {
      "cell_type": "code",
      "metadata": {
        "id": "8FA22f9p3R09"
      },
      "source": [
        "data = tf.keras.datasets.mnist"
      ],
      "execution_count": null,
      "outputs": []
    },
    {
      "cell_type": "markdown",
      "metadata": {
        "id": "Wp2PP9K7LOFx"
      },
      "source": [
        "The images in the MNIST dataset are divided into two sets: a **training set** of images that we will use to train the neural network (`x_train`, `y_train`) and a **test set** of previously unseen images that we will use to evaluate the performance of the neural network (`x_test`, `y_test`)."
      ]
    },
    {
      "cell_type": "code",
      "metadata": {
        "id": "o_ncKeFe5M47"
      },
      "source": [
        "(x_train, y_train), (x_test, y_test) = data.load_data()"
      ],
      "execution_count": null,
      "outputs": []
    },
    {
      "cell_type": "markdown",
      "metadata": {
        "id": "UU27H6wjS8oO"
      },
      "source": [
        "Let's explore the training set and the test set to get a better understanding of this data. **How many images are in the training set? How many images are in the test set? What is the size of each of these images?**"
      ]
    },
    {
      "cell_type": "code",
      "metadata": {
        "id": "K0h6nPEBS8Tx",
        "colab": {
          "base_uri": "https://localhost:8080/"
        },
        "outputId": "d8741b6f-348c-4584-a7b6-2346b04059ed"
      },
      "source": [
        "print(x_train.shape)\n",
        "print(x_test.shape)"
      ],
      "execution_count": null,
      "outputs": [
        {
          "output_type": "stream",
          "name": "stdout",
          "text": [
            "(60000, 28, 28)\n",
            "(10000, 28, 28)\n"
          ]
        }
      ]
    },
    {
      "cell_type": "markdown",
      "metadata": {
        "id": "j_8ViYL1LqS-"
      },
      "source": [
        "Let's also print the first image in the training set and its corresponding **class label** to see what it looks like. **What digit is in this image?**"
      ]
    },
    {
      "cell_type": "code",
      "metadata": {
        "id": "Tg4JVlj8648I",
        "colab": {
          "base_uri": "https://localhost:8080/"
        },
        "outputId": "1d561cdb-9c5c-4b3e-87b5-9d2d3afb2d3b"
      },
      "source": [
        "import matplotlib.pyplot as plt\n",
        "print(y_train[-1]) # class label\n",
        "print(x_train[-1]) # image\n",
        "#plt.imshow(x_train[-1]) # visualization of image"
      ],
      "execution_count": null,
      "outputs": [
        {
          "output_type": "stream",
          "name": "stdout",
          "text": [
            "8\n",
            "[[  0   0   0   0   0   0   0   0   0   0   0   0   0   0   0   0   0   0\n",
            "    0   0   0   0   0   0   0   0   0   0]\n",
            " [  0   0   0   0   0   0   0   0   0   0   0   0   0   0   0   0   0   0\n",
            "    0   0   0   0   0   0   0   0   0   0]\n",
            " [  0   0   0   0   0   0   0   0   0   0   0   0   0   0   0   0   0   0\n",
            "    0   0   0   0   0   0   0   0   0   0]\n",
            " [  0   0   0   0   0   0   0   0   0   0   0   0   0   0   0   0   0   0\n",
            "    0   0   0   0   0   0   0   0   0   0]\n",
            " [  0   0   0   0   0   0   0   0   0   0   0   0   0   0   0   0   0   0\n",
            "    0   0   0   0   0   0   0   0   0   0]\n",
            " [  0   0   0   0   0   0   0   0   0   0   0   0   0   0   0   0   0   0\n",
            "    0   0   0   0   0   0   0   0   0   0]\n",
            " [  0   0   0   0   0   0   0   0   0   0   0   0   0   0   0   0  38  48\n",
            "   48  22   0   0   0   0   0   0   0   0]\n",
            " [  0   0   0   0   0   0   0   0   0   0   0   0   0  62  97 198 243 254\n",
            "  254 212  27   0   0   0   0   0   0   0]\n",
            " [  0   0   0   0   0   0   0   0   0   0   0   0  67 172 254 254 225 218\n",
            "  218 237 248  40   0  21 164 187   0   0]\n",
            " [  0   0   0   0   0   0   0   0   0   0   0  89 219 254  97  67  14   0\n",
            "    0  92 231 122  23 203 236  59   0   0]\n",
            " [  0   0   0   0   0   0   0   0   0   0  25 217 242  92   4   0   0   0\n",
            "    0   4 147 253 240 232  92   0   0   0]\n",
            " [  0   0   0   0   0   0   0   0   0   0 101 255  92   0   0   0   0   0\n",
            "    0 105 254 254 177  11   0   0   0   0]\n",
            " [  0   0   0   0   0   0   0   0   0   0 167 244  41   0   0   0   7  76\n",
            "  199 238 239  94  10   0   0   0   0   0]\n",
            " [  0   0   0   0   0   0   0   0   0   0 192 121   0   0   2  63 180 254\n",
            "  233 126   0   0   0   0   0   0   0   0]\n",
            " [  0   0   0   0   0   0   0   0   0   0 190 196  14   2  97 254 252 146\n",
            "   52   0   0   0   0   0   0   0   0   0]\n",
            " [  0   0   0   0   0   0   0   0   0   0 130 225  71 180 232 181  60   0\n",
            "    0   0   0   0   0   0   0   0   0   0]\n",
            " [  0   0   0   0   0   0   0   0   0   0 130 254 254 230  46   0   0   0\n",
            "    0   0   0   0   0   0   0   0   0   0]\n",
            " [  0   0   0   0   0   0   0   0   6  77 244 254 162   4   0   0   0   0\n",
            "    0   0   0   0   0   0   0   0   0   0]\n",
            " [  0   0   0   0   0   0   0   0 110 254 218 254 116   0   0   0   0   0\n",
            "    0   0   0   0   0   0   0   0   0   0]\n",
            " [  0   0   0   0   0   0   0 131 254 154  28 213  86   0   0   0   0   0\n",
            "    0   0   0   0   0   0   0   0   0   0]\n",
            " [  0   0   0   0   0   0  66 209 153  19  19 233  60   0   0   0   0   0\n",
            "    0   0   0   0   0   0   0   0   0   0]\n",
            " [  0   0   0   0   0   0 142 254 165   0  14 216 167   0   0   0   0   0\n",
            "    0   0   0   0   0   0   0   0   0   0]\n",
            " [  0   0   0   0   0   0  90 254 175   0  18 229  92   0   0   0   0   0\n",
            "    0   0   0   0   0   0   0   0   0   0]\n",
            " [  0   0   0   0   0   0  26 229 249 176 222 244  44   0   0   0   0   0\n",
            "    0   0   0   0   0   0   0   0   0   0]\n",
            " [  0   0   0   0   0   0   0  73 193 197 134   0   0   0   0   0   0   0\n",
            "    0   0   0   0   0   0   0   0   0   0]\n",
            " [  0   0   0   0   0   0   0   0   0   0   0   0   0   0   0   0   0   0\n",
            "    0   0   0   0   0   0   0   0   0   0]\n",
            " [  0   0   0   0   0   0   0   0   0   0   0   0   0   0   0   0   0   0\n",
            "    0   0   0   0   0   0   0   0   0   0]\n",
            " [  0   0   0   0   0   0   0   0   0   0   0   0   0   0   0   0   0   0\n",
            "    0   0   0   0   0   0   0   0   0   0]]\n"
          ]
        }
      ]
    },
    {
      "cell_type": "markdown",
      "source": [
        "**Try changing the index of `x_train` and `y_train` to print other images. What is the digit in the second image? What is the digit in the third image? What is the digit in the last image?**\n",
        "\n",
        "Notice that each image in `x_train` is represented by a 28x28 matrix filled with values between 0 and 255. **What do these values represent?**\n",
        "\n",
        "When we are training a neural network, it's easier if all the values are between 0 and 1, so we **normalize** the values in `x_train` and `x_test`."
      ],
      "metadata": {
        "id": "9SSbUWfclL5V"
      }
    },
    {
      "cell_type": "code",
      "metadata": {
        "id": "CW3CbOg37iwB"
      },
      "source": [
        "x_train = x_train / 255.0\n",
        "x_test = x_test / 255.0"
      ],
      "execution_count": null,
      "outputs": []
    },
    {
      "cell_type": "markdown",
      "metadata": {
        "id": "xMRuM2v9Rjkj"
      },
      "source": [
        "Let's now design our neural network with a sequence of **layers**. For each layer, we specify the number of **neurons** and an **activation function**.\n",
        "\n",
        "First, we have the **input** (**Flatten**) layer, which \"flattens\" (i.e., reshapes) the data from a 3D array to a 2D array.\n",
        "\n",
        "We follow this with a **hidden** (**Dense**) layer. This layer has 16 neurons and `relu` as the activation function.\n",
        "\n",
        "Finally, we have the **output** (**Dense**) layer. This layer has 10 neurons and `softmax` as the activation function. Notice that the number of neurons in this last layer should match the **number of classes** in the data.\n",
        "\n"
      ]
    },
    {
      "cell_type": "code",
      "metadata": {
        "id": "VV-Goqe8Rv4v",
        "colab": {
          "base_uri": "https://localhost:8080/"
        },
        "outputId": "9958973f-d23a-4b79-a10f-1e12f29ca302"
      },
      "source": [
        "model = tf.keras.models.Sequential([\n",
        "  tf.keras.layers.Flatten(input_shape=(28, 28)), # input layer\n",
        "  tf.keras.layers.Dense(16, activation=tf.nn.relu), # hidden layer\n",
        "  tf.keras.layers.Dense(10, activation=tf.nn.softmax) # output layer\n",
        "])\n",
        "model.summary()"
      ],
      "execution_count": null,
      "outputs": [
        {
          "output_type": "stream",
          "name": "stdout",
          "text": [
            "Model: \"sequential_1\"\n",
            "_________________________________________________________________\n",
            " Layer (type)                Output Shape              Param #   \n",
            "=================================================================\n",
            " flatten_1 (Flatten)         (None, 784)               0         \n",
            "                                                                 \n",
            " dense_2 (Dense)             (None, 16)                12560     \n",
            "                                                                 \n",
            " dense_3 (Dense)             (None, 10)                170       \n",
            "                                                                 \n",
            "=================================================================\n",
            "Total params: 12,730\n",
            "Trainable params: 12,730\n",
            "Non-trainable params: 0\n",
            "_________________________________________________________________\n"
          ]
        }
      ]
    },
    {
      "cell_type": "markdown",
      "metadata": {
        "id": "JBBCVZMDSY2T"
      },
      "source": [
        "We compile our neural network by specifying the loss function (`sparse_categorical_crossentropy`) and the optimization algorithm (`adam`), as well as a **metric** to evaluate the performance of the neural network. In this case, we use **accuracy** (that is, the fraction of images correctly classified) as the evaluation metric."
      ]
    },
    {
      "cell_type": "code",
      "metadata": {
        "id": "rDGWQI7DSkbv"
      },
      "source": [
        "model.compile(optimizer='adam',\n",
        "              loss='sparse_categorical_crossentropy',\n",
        "              metrics=['accuracy'])"
      ],
      "execution_count": null,
      "outputs": []
    },
    {
      "cell_type": "markdown",
      "metadata": {
        "id": "5b1UMYufT6w-"
      },
      "source": [
        "We then train our neural network to fit the training data."
      ]
    },
    {
      "cell_type": "code",
      "metadata": {
        "id": "eX9RBfvlUDSu",
        "colab": {
          "base_uri": "https://localhost:8080/"
        },
        "outputId": "d216e506-b2a9-4a4b-8dfd-db8ede49ec77"
      },
      "source": [
        "model.fit(x_train, y_train, epochs=5)"
      ],
      "execution_count": null,
      "outputs": [
        {
          "output_type": "stream",
          "name": "stdout",
          "text": [
            "Epoch 1/5\n",
            "1875/1875 [==============================] - 4s 2ms/step - loss: 2.2695 - accuracy: 0.2760\n",
            "Epoch 2/5\n",
            "1875/1875 [==============================] - 3s 2ms/step - loss: 1.5261 - accuracy: 0.3950\n",
            "Epoch 3/5\n",
            "1875/1875 [==============================] - 3s 2ms/step - loss: 1.3233 - accuracy: 0.4422\n",
            "Epoch 4/5\n",
            "1875/1875 [==============================] - 3s 2ms/step - loss: 1.2430 - accuracy: 0.4682\n",
            "Epoch 5/5\n",
            "1875/1875 [==============================] - 3s 2ms/step - loss: 1.1622 - accuracy: 0.5252\n"
          ]
        },
        {
          "output_type": "execute_result",
          "data": {
            "text/plain": [
              "<keras.callbacks.History at 0x7f30e04990d0>"
            ]
          },
          "metadata": {},
          "execution_count": 29
        }
      ]
    },
    {
      "cell_type": "markdown",
      "metadata": {
        "id": "Gqn0jHggUkMr"
      },
      "source": [
        "Once it's done training, notice the accuracy at the end of the final epoch. It should be around 95%, which means that 95% of the images in the training set were classified correctly.\n",
        "\n",
        "**But how well does our neural network do with unseen images?** To find out, we try to classify the images in the test set."
      ]
    },
    {
      "cell_type": "code",
      "metadata": {
        "id": "A1JNbqnVXkBu",
        "colab": {
          "base_uri": "https://localhost:8080/"
        },
        "outputId": "a5657654-5513-4898-f47d-a4270e3d0ce4"
      },
      "source": [
        "predictions = model.predict(x_test)\n",
        "print(predictions[1]) # output\n",
        "print(np.around(predictions[1], 1)) # rounded output"
      ],
      "execution_count": null,
      "outputs": [
        {
          "output_type": "stream",
          "name": "stdout",
          "text": [
            "[7.2012945e-06 8.7736851e-05 9.7999328e-01 3.0937110e-04 4.2690165e-13\n",
            " 4.2470690e-04 1.9161694e-02 9.4015193e-13 1.5969992e-05 1.9699065e-09]\n",
            "[0. 0. 1. 0. 0. 0. 0. 0. 0. 0.]\n"
          ]
        }
      ]
    },
    {
      "cell_type": "code",
      "metadata": {
        "id": "1CJe931MsNgm",
        "colab": {
          "base_uri": "https://localhost:8080/",
          "height": 300
        },
        "outputId": "a5505ef5-7163-41f2-b2f1-7541bfa9c040"
      },
      "source": [
        "print(y_test[1]) # class label\n",
        "plt.imshow(x_test[1]) # visualization of image"
      ],
      "execution_count": null,
      "outputs": [
        {
          "output_type": "stream",
          "name": "stdout",
          "text": [
            "2\n"
          ]
        },
        {
          "output_type": "execute_result",
          "data": {
            "text/plain": [
              "<matplotlib.image.AxesImage at 0x7f30e059ee90>"
            ]
          },
          "metadata": {},
          "execution_count": 22
        },
        {
          "output_type": "display_data",
          "data": {
            "text/plain": [
              "<Figure size 432x288 with 1 Axes>"
            ],
            "image/png": "[encoded data removed]"
          },
          "metadata": {
            "needs_background": "light"
          }
        }
      ]
    },
    {
      "cell_type": "markdown",
      "metadata": {
        "id": "ek5otH16cKHL"
      },
      "source": [
        "Notice that the output for each image is a list of numbers. **What do these numbers represent? What is the predicted class label for the first image in the test set? Was this image classified correctly?**\n",
        "\n",
        "We can also evaluate the performance of our neural network on the test set."
      ]
    },
    {
      "cell_type": "code",
      "metadata": {
        "id": "Ip9chvWfVyrA",
        "colab": {
          "base_uri": "https://localhost:8080/"
        },
        "outputId": "31904bec-7188-465d-f730-fad4729c2b83"
      },
      "source": [
        "model.evaluate(x_test, y_test)"
      ],
      "execution_count": null,
      "outputs": [
        {
          "output_type": "stream",
          "name": "stdout",
          "text": [
            "313/313 [==============================] - 1s 1ms/step - loss: 0.1957 - accuracy: 0.9434\n"
          ]
        },
        {
          "output_type": "execute_result",
          "data": {
            "text/plain": [
              "[0.19568932056427002, 0.9434000253677368]"
            ]
          },
          "metadata": {},
          "execution_count": 23
        }
      ]
    },
    {
      "cell_type": "markdown",
      "metadata": {
        "id": "5O5uB4IYVyTg"
      },
      "source": [
        "The accuracy on the test set should be around 94%, which means that 94% of the images in the test set were classified correctly. This is still very good, but it's lower than the accuracy on the training set, which is expected. **But can we do any better?**"
      ]
    },
    {
      "cell_type": "markdown",
      "source": [
        "## **Activity**\n",
        "In this activity, you have to experiment with the **structure** of the neural network that we just built by changing the number of neurons in the hidden layer. Your goal is to **maximize the accuracy on the test set**, while **minimizing the number of neurons**.\n",
        "\n",
        "Create a neural network with the same number of layers and activation functions as above, but with different numbers of neurons in the hidden layer. **Try using 32, 64, 128, and 256 neurons**."
      ],
      "metadata": {
        "id": "m5wYLt0Z3zOj"
      }
    },
    {
      "cell_type": "code",
      "source": [
        "model = tf.keras.models.Sequential([\n",
        "  ...\n",
        "])\n",
        "model.summary()"
      ],
      "metadata": {
        "id": "MFslRTS737fk"
      },
      "execution_count": null,
      "outputs": []
    },
    {
      "cell_type": "markdown",
      "source": [
        "Compile the neural network. Use the same loss function, optimization algorithm, and metric as above."
      ],
      "metadata": {
        "id": "PSmN58o18x_3"
      }
    },
    {
      "cell_type": "code",
      "source": [
        "model.compile(...)"
      ],
      "metadata": {
        "id": "jMy5S7qI393X"
      },
      "execution_count": null,
      "outputs": []
    },
    {
      "cell_type": "markdown",
      "source": [
        "Train the neural network for **5** epochs."
      ],
      "metadata": {
        "id": "DZkHnU6Y8z7X"
      }
    },
    {
      "cell_type": "code",
      "source": [
        "model.fit(...)"
      ],
      "metadata": {
        "id": "YaIabKsb4AOZ"
      },
      "execution_count": null,
      "outputs": []
    },
    {
      "cell_type": "markdown",
      "source": [
        "Evaluate the performance of the neural network on the test set."
      ],
      "metadata": {
        "id": "MFs1bFdA80bo"
      }
    },
    {
      "cell_type": "code",
      "source": [
        "model.evaluate(...)"
      ],
      "metadata": {
        "id": "p3G5bn7S4B9T"
      },
      "execution_count": null,
      "outputs": []
    },
    {
      "cell_type": "markdown",
      "source": [
        "**What is the accuracy of the neural network on the test set using 16, 32, 64, 128, and 256 neurons? How does the time that takes to train the neural network change as we increase the number of neurons? How many neurons would you ultimately choose for this neural network?**\n",
        "\n",
        "**Answer:** ..."
      ],
      "metadata": {
        "id": "bGOEZqoG4seM"
      }
    }
  ]
}